{
 "cells": [
  {
   "cell_type": "markdown",
   "metadata": {},
   "source": [
    "## Exceptional Trends in S&co Data"
   ]
  },
  {
   "cell_type": "markdown",
   "metadata": {},
   "source": [
    "This notebook explores the correlation and distribution of exceptional trends in Shakespeare and Company data, specifically in the activity by members and the books they borrowed."
   ]
  },
  {
   "cell_type": "markdown",
   "metadata": {},
   "source": [
    "The categories identified for exceptional behavior were the following:\n",
    "- When a book had a borrow status of missing or unknown\n",
    "- When a book was borrowed after 1942\n",
    "- When a book was borrowed beyond the member's stated subscription rate\n",
    "- When a book was borrowed for far longer than normal\n",
    "- When a book was borrowed on a Sunday when the shop was technically closed\n",
    "  \n",
    "We are particularly interested in the overlap between these behaviors whether for members (i.e. someone who might have had a special relationship with Beach) or for books (i.e. a title that for some reason was more likely be used differently)."
   ]
  },
  {
   "cell_type": "markdown",
   "metadata": {},
   "source": [
    "#### Load Libraries and Data"
   ]
  },
  {
   "cell_type": "code",
   "execution_count": 1,
   "metadata": {},
   "outputs": [],
   "source": [
    "\n",
    "import pandas as pd\n",
    "pd.options.mode.chained_assignment = None\n",
    "pd.set_option('display.max_columns', None)\n",
    "\n",
    "import altair as alt\n",
    "# from altair_saver import save\n",
    "\n",
    "from ast import literal_eval\n",
    "\n",
    "import warnings\n",
    "warnings.filterwarnings(\"ignore\")\n",
    "\n",
    "import sys\n",
    "sys.path.append(\"..\")\n",
    "from network_analysis.load_datasets import get_updated_shxco_data"
   ]
  },
  {
   "cell_type": "code",
   "execution_count": 2,
   "metadata": {},
   "outputs": [],
   "source": [
    "members_df, books_df, borrow_events, events_df = get_updated_shxco_data(\n",
    "    get_subscription=False)\n"
   ]
  },
  {
   "cell_type": "markdown",
   "metadata": {},
   "source": [
    "#### Split and clean data"
   ]
  },
  {
   "cell_type": "code",
   "execution_count": 3,
   "metadata": {},
   "outputs": [],
   "source": [
    "def split_cols(original_df):\n",
    "    df = original_df[original_df.exceptional_types.isna() == False]\n",
    "    df.exceptional_types = df.exceptional_types.apply(literal_eval)\n",
    "    if 'exceptional_counts' in df.columns:\n",
    "        df.exceptional_counts = df.exceptional_counts.apply(literal_eval)\n",
    "        df = df.explode(['exceptional_types', 'exceptional_counts'])\n",
    "    else:\n",
    "        df = df.explode(['exceptional_types'])\n",
    "    return df"
   ]
  },
  {
   "cell_type": "code",
   "execution_count": 4,
   "metadata": {},
   "outputs": [],
   "source": [
    "ex_books_df = split_cols(books_df)\n",
    "grouped_books = ex_books_df.groupby(\n",
    "    'exceptional_types').size().reset_index(name='counts')\n",
    "grouped_books['type'] = 'books'\n",
    "\n",
    "ex_members_df = split_cols(members_df)\n",
    "grouped_members = ex_members_df.groupby(\n",
    "    'exceptional_types').size().reset_index(name='counts')\n",
    "grouped_members['type'] = 'members'\n",
    "\n",
    "ex_events_df = split_cols(events_df)\n",
    "grouped_events = ex_events_df.groupby(\n",
    "    'exceptional_types').size().reset_index(name='counts')\n",
    "grouped_events['type'] = 'events'\n"
   ]
  },
  {
   "cell_type": "code",
   "execution_count": 5,
   "metadata": {},
   "outputs": [],
   "source": [
    "def update_values(df):\n",
    "    df.loc[df['exceptional_types'] ==\n",
    "               'sunday_shopers', 'exceptional_types'] = 'Sunday Shoppers'\n",
    "    df.loc[df['exceptional_types'] ==\n",
    "                'longterm_borrows', 'exceptional_types'] = 'Longterm Borrows'\n",
    "    df.loc[df['exceptional_types'] == 'overborrows',\n",
    "                'exceptional_types'] = 'Borrows Beyond Subscription'\n",
    "\n",
    "    df.loc[df['exceptional_types'] ==\n",
    "                'post1942_events', 'exceptional_types'] = 'Borrows After 1942'\n",
    "\n",
    "    df.loc[df['exceptional_types'] ==\n",
    "                'unknown_borrows', 'exceptional_types'] = 'Borrow Status Unknown'\n",
    "\n",
    "    df.loc[df['exceptional_types'] ==\n",
    "                'missing_events', 'exceptional_types'] = 'Borrow Status Missing'\n",
    "    return df\n"
   ]
  },
  {
   "cell_type": "markdown",
   "metadata": {},
   "source": [
    "#### Generate Correlation Charts"
   ]
  },
  {
   "cell_type": "code",
   "execution_count": 17,
   "metadata": {},
   "outputs": [],
   "source": [
    "def get_correlation_df(original_df, col):\n",
    "    df = split_cols(original_df)\n",
    "    df.exceptional_counts = df.exceptional_counts.astype(int)\n",
    "    df = update_values(df)\n",
    "    grouped_df = df.groupby([col, 'exceptional_types'])['exceptional_counts'].sum().reset_index()\n",
    "    pivoted_df = grouped_df.pivot(index=col, columns='exceptional_types', values='exceptional_counts').reset_index()\n",
    "    pivoted_df.fillna(0, inplace=True)\n",
    "    pivot_cols = grouped_df.exceptional_types.unique().tolist()\n",
    "    corr_df = pivoted_df[pivot_cols].corr().reset_index()\n",
    "    corr_df['cat'] = corr_df.exceptional_types\n",
    "    return corr_df, pivot_cols\n",
    "\n",
    "def get_correlation_chart(original_df, col, title):\n",
    "    corr_df, pivot_cols = get_correlation_df(original_df, col)\n",
    "    base = alt.Chart(corr_df).transform_fold(pivot_cols).encode(\n",
    "        x=alt.X(\"cat:N\", axis=alt.Axis(title='', labelAngle=-45)),  \n",
    "        y=alt.Y('key:N', axis=alt.Axis(title=''))\n",
    "    ).properties(height=300, width=300, title=title)\n",
    "    boxes = base.mark_rect().encode(color=alt.Color(\n",
    "        \"value:Q\", scale=alt.Scale(scheme=\"redyellowblue\")))\n",
    "    labels = base.mark_text(size=5, color=\"grey\").encode(\n",
    "        text=alt.Text(\"value:Q\", format=\"0.1f\"))\n",
    "    chart = boxes + labels\n",
    "    return chart"
   ]
  },
  {
   "cell_type": "code",
   "execution_count": 18,
   "metadata": {},
   "outputs": [],
   "source": [
    "members_corr, pivot_cols = get_correlation_df(members_df, 'member_id')\n",
    "books_corr, pivot_cols = get_correlation_df(books_df, 'id')"
   ]
  },
  {
   "cell_type": "code",
   "execution_count": 19,
   "metadata": {},
   "outputs": [],
   "source": [
    "members_type = \"Correlations in Members' Borrowing Activity Beyond Guidelines\"\n",
    "books_type = \"Correlations in Books Being Borrowed Beyond Guidelines\"\n",
    "members_corr['type'] = members_type\n",
    "books_corr[\"type\"] = books_type"
   ]
  },
  {
   "cell_type": "code",
   "execution_count": 20,
   "metadata": {},
   "outputs": [],
   "source": [
    "corr_concat = pd.concat([members_corr, books_corr])"
   ]
  },
  {
   "cell_type": "code",
   "execution_count": 21,
   "metadata": {},
   "outputs": [
    {
     "data": {
      "text/html": [
       "\n",
       "<div id=\"altair-viz-d238b8bf70c64b83b10ad15c88774cb0\"></div>\n",
       "<script type=\"text/javascript\">\n",
       "  var VEGA_DEBUG = (typeof VEGA_DEBUG == \"undefined\") ? {} : VEGA_DEBUG;\n",
       "  (function(spec, embedOpt){\n",
       "    let outputDiv = document.currentScript.previousElementSibling;\n",
       "    if (outputDiv.id !== \"altair-viz-d238b8bf70c64b83b10ad15c88774cb0\") {\n",
       "      outputDiv = document.getElementById(\"altair-viz-d238b8bf70c64b83b10ad15c88774cb0\");\n",
       "    }\n",
       "    const paths = {\n",
       "      \"vega\": \"https://cdn.jsdelivr.net/npm//vega@5?noext\",\n",
       "      \"vega-lib\": \"https://cdn.jsdelivr.net/npm//vega-lib?noext\",\n",
       "      \"vega-lite\": \"https://cdn.jsdelivr.net/npm//vega-lite@4.17.0?noext\",\n",
       "      \"vega-embed\": \"https://cdn.jsdelivr.net/npm//vega-embed@6?noext\",\n",
       "    };\n",
       "\n",
       "    function maybeLoadScript(lib, version) {\n",
       "      var key = `${lib.replace(\"-\", \"\")}_version`;\n",
       "      return (VEGA_DEBUG[key] == version) ?\n",
       "        Promise.resolve(paths[lib]) :\n",
       "        new Promise(function(resolve, reject) {\n",
       "          var s = document.createElement('script');\n",
       "          document.getElementsByTagName(\"head\")[0].appendChild(s);\n",
       "          s.async = true;\n",
       "          s.onload = () => {\n",
       "            VEGA_DEBUG[key] = version;\n",
       "            return resolve(paths[lib]);\n",
       "          };\n",
       "          s.onerror = () => reject(`Error loading script: ${paths[lib]}`);\n",
       "          s.src = paths[lib];\n",
       "        });\n",
       "    }\n",
       "\n",
       "    function showError(err) {\n",
       "      outputDiv.innerHTML = `<div class=\"error\" style=\"color:red;\">${err}</div>`;\n",
       "      throw err;\n",
       "    }\n",
       "\n",
       "    function displayChart(vegaEmbed) {\n",
       "      vegaEmbed(outputDiv, spec, embedOpt)\n",
       "        .catch(err => showError(`Javascript Error: ${err.message}<br>This usually means there's a typo in your chart specification. See the javascript console for the full traceback.`));\n",
       "    }\n",
       "\n",
       "    if(typeof define === \"function\" && define.amd) {\n",
       "      requirejs.config({paths});\n",
       "      require([\"vega-embed\"], displayChart, err => showError(`Error loading script: ${err.message}`));\n",
       "    } else {\n",
       "      maybeLoadScript(\"vega\", \"5\")\n",
       "        .then(() => maybeLoadScript(\"vega-lite\", \"4.17.0\"))\n",
       "        .then(() => maybeLoadScript(\"vega-embed\", \"6\"))\n",
       "        .catch(showError)\n",
       "        .then(() => displayChart(vegaEmbed));\n",
       "    }\n",
       "  })({\"config\": {\"view\": {\"continuousWidth\": 400, \"continuousHeight\": 300}}, \"data\": {\"name\": \"data-3612a5918f81b9c3649123099faa1e2b\"}, \"facet\": {\"row\": {\"field\": \"type\", \"header\": {\"labelOrient\": \"top\"}, \"sort\": [\"Correlations in Members' Borrowing Activity Beyond Guidelines\", \"Correlations in Books Being Borrowed Beyond Guidelines\"], \"type\": \"nominal\"}}, \"spec\": {\"layer\": [{\"mark\": \"rect\", \"encoding\": {\"color\": {\"field\": \"value\", \"scale\": {\"scheme\": \"redyellowblue\"}, \"type\": \"quantitative\"}, \"x\": {\"axis\": {\"labelAngle\": -45, \"title\": \"\"}, \"field\": \"cat\", \"type\": \"nominal\"}, \"y\": {\"axis\": {\"title\": \"\"}, \"field\": \"key\", \"type\": \"nominal\"}}, \"height\": 300, \"transform\": [{\"fold\": [\"Borrows Beyond Subscription\", \"Longterm Borrows\", \"Borrow Status Unknown\", \"Borrows After 1942\", \"Sunday Shoppers\", \"Borrow Status Missing\"]}], \"width\": 300}, {\"mark\": {\"type\": \"text\", \"color\": \"grey\", \"size\": 5}, \"encoding\": {\"text\": {\"field\": \"value\", \"format\": \"0.1f\", \"type\": \"quantitative\"}, \"x\": {\"axis\": {\"labelAngle\": -45, \"title\": \"\"}, \"field\": \"cat\", \"type\": \"nominal\"}, \"y\": {\"axis\": {\"title\": \"\"}, \"field\": \"key\", \"type\": \"nominal\"}}, \"height\": 300, \"transform\": [{\"fold\": [\"Borrows Beyond Subscription\", \"Longterm Borrows\", \"Borrow Status Unknown\", \"Borrows After 1942\", \"Sunday Shoppers\", \"Borrow Status Missing\"]}], \"width\": 300}]}, \"$schema\": \"https://vega.github.io/schema/vega-lite/v4.17.0.json\", \"datasets\": {\"data-3612a5918f81b9c3649123099faa1e2b\": [{\"exceptional_types\": \"Borrows After 1942\", \"Borrows After 1942\": 1.0, \"Borrows Beyond Subscription\": 0.11605902595431973, \"Sunday Shoppers\": 0.3637144216037118, \"Borrow Status Unknown\": 0.32766932815669786, \"Borrow Status Missing\": -0.015114445038485705, \"Longterm Borrows\": -0.002874632199067974, \"cat\": \"Borrows After 1942\", \"type\": \"Correlations in Members' Borrowing Activity Beyond Guidelines\"}, {\"exceptional_types\": \"Borrows Beyond Subscription\", \"Borrows After 1942\": 0.11605902595431973, \"Borrows Beyond Subscription\": 1.0, \"Sunday Shoppers\": 0.3425731703653142, \"Borrow Status Unknown\": 0.5414291507625619, \"Borrow Status Missing\": -0.011680690807597, \"Longterm Borrows\": 0.007830746256460734, \"cat\": \"Borrows Beyond Subscription\", \"type\": \"Correlations in Members' Borrowing Activity Beyond Guidelines\"}, {\"exceptional_types\": \"Sunday Shoppers\", \"Borrows After 1942\": 0.3637144216037118, \"Borrows Beyond Subscription\": 0.3425731703653142, \"Sunday Shoppers\": 1.0, \"Borrow Status Unknown\": 0.4171839413240549, \"Borrow Status Missing\": 0.029105676597384753, \"Longterm Borrows\": 0.029742491314888122, \"cat\": \"Sunday Shoppers\", \"type\": \"Correlations in Members' Borrowing Activity Beyond Guidelines\"}, {\"exceptional_types\": \"Borrow Status Unknown\", \"Borrows After 1942\": 0.32766932815669786, \"Borrows Beyond Subscription\": 0.5414291507625619, \"Sunday Shoppers\": 0.4171839413240549, \"Borrow Status Unknown\": 1.0, \"Borrow Status Missing\": -0.030540894452324063, \"Longterm Borrows\": 0.27646821834915547, \"cat\": \"Borrow Status Unknown\", \"type\": \"Correlations in Members' Borrowing Activity Beyond Guidelines\"}, {\"exceptional_types\": \"Borrow Status Missing\", \"Borrows After 1942\": -0.015114445038485705, \"Borrows Beyond Subscription\": -0.011680690807597, \"Sunday Shoppers\": 0.029105676597384753, \"Borrow Status Unknown\": -0.030540894452324063, \"Borrow Status Missing\": 1.0, \"Longterm Borrows\": -0.011758536642401058, \"cat\": \"Borrow Status Missing\", \"type\": \"Correlations in Members' Borrowing Activity Beyond Guidelines\"}, {\"exceptional_types\": \"Longterm Borrows\", \"Borrows After 1942\": -0.002874632199067974, \"Borrows Beyond Subscription\": 0.007830746256460734, \"Sunday Shoppers\": 0.029742491314888122, \"Borrow Status Unknown\": 0.27646821834915547, \"Borrow Status Missing\": -0.011758536642401058, \"Longterm Borrows\": 1.0, \"cat\": \"Longterm Borrows\", \"type\": \"Correlations in Members' Borrowing Activity Beyond Guidelines\"}, {\"exceptional_types\": \"Borrows Beyond Subscription\", \"Borrows After 1942\": 0.03575709041299369, \"Borrows Beyond Subscription\": 1.0, \"Sunday Shoppers\": 0.16990322831115595, \"Borrow Status Unknown\": 0.31134491407121373, \"Borrow Status Missing\": -0.006323749754977381, \"Longterm Borrows\": -0.005447656187851852, \"cat\": \"Borrows Beyond Subscription\", \"type\": \"Correlations in Books Being Borrowed Beyond Guidelines\"}, {\"exceptional_types\": \"Longterm Borrows\", \"Borrows After 1942\": 0.02519497011428249, \"Borrows Beyond Subscription\": -0.005447656187851852, \"Sunday Shoppers\": 0.0019280823333787142, \"Borrow Status Unknown\": 0.004858871964493112, \"Borrow Status Missing\": -0.002808420356392513, \"Longterm Borrows\": 1.0, \"cat\": \"Longterm Borrows\", \"type\": \"Correlations in Books Being Borrowed Beyond Guidelines\"}, {\"exceptional_types\": \"Borrow Status Unknown\", \"Borrows After 1942\": 0.22754576892568878, \"Borrows Beyond Subscription\": 0.31134491407121373, \"Sunday Shoppers\": 0.025562968211780942, \"Borrow Status Unknown\": 1.0, \"Borrow Status Missing\": -0.012815734850210682, \"Longterm Borrows\": 0.004858871964493112, \"cat\": \"Borrow Status Unknown\", \"type\": \"Correlations in Books Being Borrowed Beyond Guidelines\"}, {\"exceptional_types\": \"Borrows After 1942\", \"Borrows After 1942\": 1.0, \"Borrows Beyond Subscription\": 0.03575709041299369, \"Sunday Shoppers\": 0.10558826974069258, \"Borrow Status Unknown\": 0.22754576892568878, \"Borrow Status Missing\": -0.010054600184814366, \"Longterm Borrows\": 0.02519497011428249, \"cat\": \"Borrows After 1942\", \"type\": \"Correlations in Books Being Borrowed Beyond Guidelines\"}, {\"exceptional_types\": \"Sunday Shoppers\", \"Borrows After 1942\": 0.10558826974069258, \"Borrows Beyond Subscription\": 0.16990322831115595, \"Sunday Shoppers\": 1.0, \"Borrow Status Unknown\": 0.025562968211780942, \"Borrow Status Missing\": -0.009403804977999185, \"Longterm Borrows\": 0.0019280823333787142, \"cat\": \"Sunday Shoppers\", \"type\": \"Correlations in Books Being Borrowed Beyond Guidelines\"}, {\"exceptional_types\": \"Borrow Status Missing\", \"Borrows After 1942\": -0.010054600184814366, \"Borrows Beyond Subscription\": -0.006323749754977381, \"Sunday Shoppers\": -0.009403804977999185, \"Borrow Status Unknown\": -0.012815734850210682, \"Borrow Status Missing\": 1.0, \"Longterm Borrows\": -0.002808420356392513, \"cat\": \"Borrow Status Missing\", \"type\": \"Correlations in Books Being Borrowed Beyond Guidelines\"}]}}, {\"mode\": \"vega-lite\"});\n",
       "</script>"
      ],
      "text/plain": [
       "alt.FacetChart(...)"
      ]
     },
     "execution_count": 21,
     "metadata": {},
     "output_type": "execute_result"
    }
   ],
   "source": [
    "base = alt.Chart(corr_concat).transform_fold(pivot_cols).encode(\n",
    "    x=alt.X(\"cat:N\", axis=alt.Axis(title='', labelAngle=-45)),  \n",
    "    y=alt.Y('key:N', axis=alt.Axis(title=''))\n",
    "    ).properties(height=300, width=300)\n",
    "boxes = base.mark_rect().encode(color=alt.Color(\n",
    "    \"value:Q\", scale=alt.Scale(scheme=\"redyellowblue\")))\n",
    "labels = base.mark_text(size=5, color=\"grey\").encode(\n",
    "    text=alt.Text(\"value:Q\", format=\"0.1f\"))\n",
    "chart = boxes + labels\n",
    "chart.facet(\n",
    "    row=alt.Row('type:N', header=alt.Header(labelOrient='top'), sort=[members_type,books_type])\n",
    "    )"
   ]
  },
  {
   "cell_type": "code",
   "execution_count": 25,
   "metadata": {},
   "outputs": [
    {
     "data": {
      "text/html": [
       "\n",
       "<div id=\"altair-viz-6a76bb7253a045f6b7b2b14138b7759e\"></div>\n",
       "<script type=\"text/javascript\">\n",
       "  var VEGA_DEBUG = (typeof VEGA_DEBUG == \"undefined\") ? {} : VEGA_DEBUG;\n",
       "  (function(spec, embedOpt){\n",
       "    let outputDiv = document.currentScript.previousElementSibling;\n",
       "    if (outputDiv.id !== \"altair-viz-6a76bb7253a045f6b7b2b14138b7759e\") {\n",
       "      outputDiv = document.getElementById(\"altair-viz-6a76bb7253a045f6b7b2b14138b7759e\");\n",
       "    }\n",
       "    const paths = {\n",
       "      \"vega\": \"https://cdn.jsdelivr.net/npm//vega@5?noext\",\n",
       "      \"vega-lib\": \"https://cdn.jsdelivr.net/npm//vega-lib?noext\",\n",
       "      \"vega-lite\": \"https://cdn.jsdelivr.net/npm//vega-lite@4.17.0?noext\",\n",
       "      \"vega-embed\": \"https://cdn.jsdelivr.net/npm//vega-embed@6?noext\",\n",
       "    };\n",
       "\n",
       "    function maybeLoadScript(lib, version) {\n",
       "      var key = `${lib.replace(\"-\", \"\")}_version`;\n",
       "      return (VEGA_DEBUG[key] == version) ?\n",
       "        Promise.resolve(paths[lib]) :\n",
       "        new Promise(function(resolve, reject) {\n",
       "          var s = document.createElement('script');\n",
       "          document.getElementsByTagName(\"head\")[0].appendChild(s);\n",
       "          s.async = true;\n",
       "          s.onload = () => {\n",
       "            VEGA_DEBUG[key] = version;\n",
       "            return resolve(paths[lib]);\n",
       "          };\n",
       "          s.onerror = () => reject(`Error loading script: ${paths[lib]}`);\n",
       "          s.src = paths[lib];\n",
       "        });\n",
       "    }\n",
       "\n",
       "    function showError(err) {\n",
       "      outputDiv.innerHTML = `<div class=\"error\" style=\"color:red;\">${err}</div>`;\n",
       "      throw err;\n",
       "    }\n",
       "\n",
       "    function displayChart(vegaEmbed) {\n",
       "      vegaEmbed(outputDiv, spec, embedOpt)\n",
       "        .catch(err => showError(`Javascript Error: ${err.message}<br>This usually means there's a typo in your chart specification. See the javascript console for the full traceback.`));\n",
       "    }\n",
       "\n",
       "    if(typeof define === \"function\" && define.amd) {\n",
       "      requirejs.config({paths});\n",
       "      require([\"vega-embed\"], displayChart, err => showError(`Error loading script: ${err.message}`));\n",
       "    } else {\n",
       "      maybeLoadScript(\"vega\", \"5\")\n",
       "        .then(() => maybeLoadScript(\"vega-lite\", \"4.17.0\"))\n",
       "        .then(() => maybeLoadScript(\"vega-embed\", \"6\"))\n",
       "        .catch(showError)\n",
       "        .then(() => displayChart(vegaEmbed));\n",
       "    }\n",
       "  })({\"config\": {\"view\": {\"continuousWidth\": 400, \"continuousHeight\": 300}}, \"vconcat\": [{\"layer\": [{\"mark\": \"rect\", \"encoding\": {\"color\": {\"field\": \"value\", \"scale\": {\"scheme\": \"redyellowblue\"}, \"type\": \"quantitative\"}, \"x\": {\"axis\": {\"labelAngle\": -45, \"title\": \"\"}, \"field\": \"cat\", \"type\": \"nominal\"}, \"y\": {\"axis\": {\"title\": \"\"}, \"field\": \"key\", \"type\": \"nominal\"}}, \"height\": 300, \"title\": \"Correlations in Exceptional Members\", \"transform\": [{\"fold\": [\"Borrows After 1942\", \"Borrows Beyond Subscription\", \"Sunday Shoppers\", \"Borrow Status Unknown\", \"Borrow Status Missing\", \"Longterm Borrows\"]}], \"width\": 300}, {\"mark\": {\"type\": \"text\", \"color\": \"grey\", \"size\": 5}, \"encoding\": {\"text\": {\"field\": \"value\", \"format\": \"0.1f\", \"type\": \"quantitative\"}, \"x\": {\"axis\": {\"labelAngle\": -45, \"title\": \"\"}, \"field\": \"cat\", \"type\": \"nominal\"}, \"y\": {\"axis\": {\"title\": \"\"}, \"field\": \"key\", \"type\": \"nominal\"}}, \"height\": 300, \"title\": \"Correlations in Exceptional Members\", \"transform\": [{\"fold\": [\"Borrows After 1942\", \"Borrows Beyond Subscription\", \"Sunday Shoppers\", \"Borrow Status Unknown\", \"Borrow Status Missing\", \"Longterm Borrows\"]}], \"width\": 300}], \"data\": {\"name\": \"data-4c999b48e3b0bc9628a556ee3fdba8c4\"}}, {\"layer\": [{\"mark\": \"rect\", \"encoding\": {\"color\": {\"field\": \"value\", \"scale\": {\"scheme\": \"redyellowblue\"}, \"type\": \"quantitative\"}, \"x\": {\"axis\": {\"labelAngle\": -45, \"title\": \"\"}, \"field\": \"cat\", \"type\": \"nominal\"}, \"y\": {\"axis\": {\"title\": \"\"}, \"field\": \"key\", \"type\": \"nominal\"}}, \"height\": 300, \"title\": \"Correlations in Exceptional Books\", \"transform\": [{\"fold\": [\"Borrows Beyond Subscription\", \"Longterm Borrows\", \"Borrow Status Unknown\", \"Borrows After 1942\", \"Sunday Shoppers\", \"Borrow Status Missing\"]}], \"width\": 300}, {\"mark\": {\"type\": \"text\", \"color\": \"grey\", \"size\": 5}, \"encoding\": {\"text\": {\"field\": \"value\", \"format\": \"0.1f\", \"type\": \"quantitative\"}, \"x\": {\"axis\": {\"labelAngle\": -45, \"title\": \"\"}, \"field\": \"cat\", \"type\": \"nominal\"}, \"y\": {\"axis\": {\"title\": \"\"}, \"field\": \"key\", \"type\": \"nominal\"}}, \"height\": 300, \"title\": \"Correlations in Exceptional Books\", \"transform\": [{\"fold\": [\"Borrows Beyond Subscription\", \"Longterm Borrows\", \"Borrow Status Unknown\", \"Borrows After 1942\", \"Sunday Shoppers\", \"Borrow Status Missing\"]}], \"width\": 300}], \"data\": {\"name\": \"data-4fa8842c597ceed873a2f7bac021bb50\"}}], \"$schema\": \"https://vega.github.io/schema/vega-lite/v4.17.0.json\", \"datasets\": {\"data-4c999b48e3b0bc9628a556ee3fdba8c4\": [{\"exceptional_types\": \"Borrows After 1942\", \"Borrows After 1942\": 1.0, \"Borrows Beyond Subscription\": 0.11605902595431973, \"Sunday Shoppers\": 0.3637144216037118, \"Borrow Status Unknown\": 0.32766932815669786, \"Borrow Status Missing\": -0.015114445038485705, \"Longterm Borrows\": -0.002874632199067974, \"cat\": \"Borrows After 1942\"}, {\"exceptional_types\": \"Borrows Beyond Subscription\", \"Borrows After 1942\": 0.11605902595431973, \"Borrows Beyond Subscription\": 1.0, \"Sunday Shoppers\": 0.3425731703653142, \"Borrow Status Unknown\": 0.5414291507625619, \"Borrow Status Missing\": -0.011680690807597, \"Longterm Borrows\": 0.007830746256460734, \"cat\": \"Borrows Beyond Subscription\"}, {\"exceptional_types\": \"Sunday Shoppers\", \"Borrows After 1942\": 0.3637144216037118, \"Borrows Beyond Subscription\": 0.3425731703653142, \"Sunday Shoppers\": 1.0, \"Borrow Status Unknown\": 0.4171839413240549, \"Borrow Status Missing\": 0.029105676597384753, \"Longterm Borrows\": 0.029742491314888122, \"cat\": \"Sunday Shoppers\"}, {\"exceptional_types\": \"Borrow Status Unknown\", \"Borrows After 1942\": 0.32766932815669786, \"Borrows Beyond Subscription\": 0.5414291507625619, \"Sunday Shoppers\": 0.4171839413240549, \"Borrow Status Unknown\": 1.0, \"Borrow Status Missing\": -0.030540894452324063, \"Longterm Borrows\": 0.27646821834915547, \"cat\": \"Borrow Status Unknown\"}, {\"exceptional_types\": \"Borrow Status Missing\", \"Borrows After 1942\": -0.015114445038485705, \"Borrows Beyond Subscription\": -0.011680690807597, \"Sunday Shoppers\": 0.029105676597384753, \"Borrow Status Unknown\": -0.030540894452324063, \"Borrow Status Missing\": 1.0, \"Longterm Borrows\": -0.011758536642401058, \"cat\": \"Borrow Status Missing\"}, {\"exceptional_types\": \"Longterm Borrows\", \"Borrows After 1942\": -0.002874632199067974, \"Borrows Beyond Subscription\": 0.007830746256460734, \"Sunday Shoppers\": 0.029742491314888122, \"Borrow Status Unknown\": 0.27646821834915547, \"Borrow Status Missing\": -0.011758536642401058, \"Longterm Borrows\": 1.0, \"cat\": \"Longterm Borrows\"}], \"data-4fa8842c597ceed873a2f7bac021bb50\": [{\"exceptional_types\": \"Borrows Beyond Subscription\", \"Borrows Beyond Subscription\": 1.0, \"Longterm Borrows\": -0.005447656187851852, \"Borrow Status Unknown\": 0.31134491407121373, \"Borrows After 1942\": 0.03575709041299369, \"Sunday Shoppers\": 0.16990322831115595, \"Borrow Status Missing\": -0.006323749754977381, \"cat\": \"Borrows Beyond Subscription\"}, {\"exceptional_types\": \"Longterm Borrows\", \"Borrows Beyond Subscription\": -0.005447656187851852, \"Longterm Borrows\": 1.0, \"Borrow Status Unknown\": 0.004858871964493112, \"Borrows After 1942\": 0.02519497011428249, \"Sunday Shoppers\": 0.0019280823333787142, \"Borrow Status Missing\": -0.002808420356392513, \"cat\": \"Longterm Borrows\"}, {\"exceptional_types\": \"Borrow Status Unknown\", \"Borrows Beyond Subscription\": 0.31134491407121373, \"Longterm Borrows\": 0.004858871964493112, \"Borrow Status Unknown\": 1.0, \"Borrows After 1942\": 0.22754576892568878, \"Sunday Shoppers\": 0.025562968211780942, \"Borrow Status Missing\": -0.012815734850210682, \"cat\": \"Borrow Status Unknown\"}, {\"exceptional_types\": \"Borrows After 1942\", \"Borrows Beyond Subscription\": 0.03575709041299369, \"Longterm Borrows\": 0.02519497011428249, \"Borrow Status Unknown\": 0.22754576892568878, \"Borrows After 1942\": 1.0, \"Sunday Shoppers\": 0.10558826974069258, \"Borrow Status Missing\": -0.010054600184814366, \"cat\": \"Borrows After 1942\"}, {\"exceptional_types\": \"Sunday Shoppers\", \"Borrows Beyond Subscription\": 0.16990322831115595, \"Longterm Borrows\": 0.0019280823333787142, \"Borrow Status Unknown\": 0.025562968211780942, \"Borrows After 1942\": 0.10558826974069258, \"Sunday Shoppers\": 1.0, \"Borrow Status Missing\": -0.009403804977999185, \"cat\": \"Sunday Shoppers\"}, {\"exceptional_types\": \"Borrow Status Missing\", \"Borrows Beyond Subscription\": -0.006323749754977381, \"Longterm Borrows\": -0.002808420356392513, \"Borrow Status Unknown\": -0.012815734850210682, \"Borrows After 1942\": -0.010054600184814366, \"Sunday Shoppers\": -0.009403804977999185, \"Borrow Status Missing\": 1.0, \"cat\": \"Borrow Status Missing\"}]}}, {\"mode\": \"vega-lite\"});\n",
       "</script>"
      ],
      "text/plain": [
       "alt.VConcatChart(...)"
      ]
     },
     "execution_count": 25,
     "metadata": {},
     "output_type": "execute_result"
    }
   ],
   "source": [
    "chart_books = get_correlation_chart(books_df, 'id', 'Correlations in Exceptional Books')\n",
    "chart_members = get_correlation_chart(members_df, 'member_id', 'Correlations in Exceptional Members')\n",
    "\n",
    "alt.vconcat(*[chart_members, chart_books])"
   ]
  },
  {
   "cell_type": "markdown",
   "metadata": {},
   "source": [
    "#### Trends Across Datasets"
   ]
  },
  {
   "cell_type": "code",
   "execution_count": 26,
   "metadata": {},
   "outputs": [],
   "source": [
    "grouped_df = pd.concat([grouped_books, grouped_members, grouped_events])\n",
    "grouped_df = update_values(grouped_df)\n"
   ]
  },
  {
   "cell_type": "code",
   "execution_count": 27,
   "metadata": {},
   "outputs": [
    {
     "data": {
      "text/html": [
       "<div>\n",
       "<style scoped>\n",
       "    .dataframe tbody tr th:only-of-type {\n",
       "        vertical-align: middle;\n",
       "    }\n",
       "\n",
       "    .dataframe tbody tr th {\n",
       "        vertical-align: top;\n",
       "    }\n",
       "\n",
       "    .dataframe thead th {\n",
       "        text-align: right;\n",
       "    }\n",
       "</style>\n",
       "<table border=\"1\" class=\"dataframe\">\n",
       "  <thead>\n",
       "    <tr style=\"text-align: right;\">\n",
       "      <th></th>\n",
       "      <th>exceptional_types</th>\n",
       "      <th>counts</th>\n",
       "      <th>type</th>\n",
       "    </tr>\n",
       "  </thead>\n",
       "  <tbody>\n",
       "    <tr>\n",
       "      <th>0</th>\n",
       "      <td>Longterm Borrows</td>\n",
       "      <td>23</td>\n",
       "      <td>books</td>\n",
       "    </tr>\n",
       "    <tr>\n",
       "      <th>1</th>\n",
       "      <td>Borrow Status Missing</td>\n",
       "      <td>4</td>\n",
       "      <td>books</td>\n",
       "    </tr>\n",
       "    <tr>\n",
       "      <th>2</th>\n",
       "      <td>Borrows Beyond Subscription</td>\n",
       "      <td>2931</td>\n",
       "      <td>books</td>\n",
       "    </tr>\n",
       "    <tr>\n",
       "      <th>3</th>\n",
       "      <td>Borrows After 1942</td>\n",
       "      <td>392</td>\n",
       "      <td>books</td>\n",
       "    </tr>\n",
       "    <tr>\n",
       "      <th>4</th>\n",
       "      <td>Sunday Shoppers</td>\n",
       "      <td>246</td>\n",
       "      <td>books</td>\n",
       "    </tr>\n",
       "    <tr>\n",
       "      <th>5</th>\n",
       "      <td>Borrow Status Unknown</td>\n",
       "      <td>539</td>\n",
       "      <td>books</td>\n",
       "    </tr>\n",
       "    <tr>\n",
       "      <th>0</th>\n",
       "      <td>Longterm Borrows</td>\n",
       "      <td>12</td>\n",
       "      <td>members</td>\n",
       "    </tr>\n",
       "    <tr>\n",
       "      <th>1</th>\n",
       "      <td>Borrow Status Missing</td>\n",
       "      <td>4</td>\n",
       "      <td>members</td>\n",
       "    </tr>\n",
       "    <tr>\n",
       "      <th>2</th>\n",
       "      <td>Borrows Beyond Subscription</td>\n",
       "      <td>277</td>\n",
       "      <td>members</td>\n",
       "    </tr>\n",
       "    <tr>\n",
       "      <th>3</th>\n",
       "      <td>Borrows After 1942</td>\n",
       "      <td>119</td>\n",
       "      <td>members</td>\n",
       "    </tr>\n",
       "    <tr>\n",
       "      <th>4</th>\n",
       "      <td>Sunday Shoppers</td>\n",
       "      <td>101</td>\n",
       "      <td>members</td>\n",
       "    </tr>\n",
       "    <tr>\n",
       "      <th>5</th>\n",
       "      <td>Borrow Status Unknown</td>\n",
       "      <td>219</td>\n",
       "      <td>members</td>\n",
       "    </tr>\n",
       "    <tr>\n",
       "      <th>0</th>\n",
       "      <td>Longterm Borrows</td>\n",
       "      <td>24</td>\n",
       "      <td>events</td>\n",
       "    </tr>\n",
       "    <tr>\n",
       "      <th>1</th>\n",
       "      <td>Borrow Status Missing</td>\n",
       "      <td>4</td>\n",
       "      <td>events</td>\n",
       "    </tr>\n",
       "    <tr>\n",
       "      <th>2</th>\n",
       "      <td>Borrows Beyond Subscription</td>\n",
       "      <td>5752</td>\n",
       "      <td>events</td>\n",
       "    </tr>\n",
       "    <tr>\n",
       "      <th>3</th>\n",
       "      <td>Borrows After 1942</td>\n",
       "      <td>538</td>\n",
       "      <td>events</td>\n",
       "    </tr>\n",
       "    <tr>\n",
       "      <th>4</th>\n",
       "      <td>Sunday Shoppers</td>\n",
       "      <td>258</td>\n",
       "      <td>events</td>\n",
       "    </tr>\n",
       "    <tr>\n",
       "      <th>5</th>\n",
       "      <td>Borrow Status Unknown</td>\n",
       "      <td>604</td>\n",
       "      <td>events</td>\n",
       "    </tr>\n",
       "  </tbody>\n",
       "</table>\n",
       "</div>"
      ],
      "text/plain": [
       "             exceptional_types  counts     type\n",
       "0             Longterm Borrows      23    books\n",
       "1        Borrow Status Missing       4    books\n",
       "2  Borrows Beyond Subscription    2931    books\n",
       "3           Borrows After 1942     392    books\n",
       "4              Sunday Shoppers     246    books\n",
       "5        Borrow Status Unknown     539    books\n",
       "0             Longterm Borrows      12  members\n",
       "1        Borrow Status Missing       4  members\n",
       "2  Borrows Beyond Subscription     277  members\n",
       "3           Borrows After 1942     119  members\n",
       "4              Sunday Shoppers     101  members\n",
       "5        Borrow Status Unknown     219  members\n",
       "0             Longterm Borrows      24   events\n",
       "1        Borrow Status Missing       4   events\n",
       "2  Borrows Beyond Subscription    5752   events\n",
       "3           Borrows After 1942     538   events\n",
       "4              Sunday Shoppers     258   events\n",
       "5        Borrow Status Unknown     604   events"
      ]
     },
     "execution_count": 27,
     "metadata": {},
     "output_type": "execute_result"
    }
   ],
   "source": [
    "grouped_df"
   ]
  },
  {
   "cell_type": "code",
   "execution_count": 28,
   "metadata": {},
   "outputs": [
    {
     "data": {
      "text/html": [
       "\n",
       "<div id=\"altair-viz-b39ad4f5733c4c7db6a282e17007baba\"></div>\n",
       "<script type=\"text/javascript\">\n",
       "  var VEGA_DEBUG = (typeof VEGA_DEBUG == \"undefined\") ? {} : VEGA_DEBUG;\n",
       "  (function(spec, embedOpt){\n",
       "    let outputDiv = document.currentScript.previousElementSibling;\n",
       "    if (outputDiv.id !== \"altair-viz-b39ad4f5733c4c7db6a282e17007baba\") {\n",
       "      outputDiv = document.getElementById(\"altair-viz-b39ad4f5733c4c7db6a282e17007baba\");\n",
       "    }\n",
       "    const paths = {\n",
       "      \"vega\": \"https://cdn.jsdelivr.net/npm//vega@5?noext\",\n",
       "      \"vega-lib\": \"https://cdn.jsdelivr.net/npm//vega-lib?noext\",\n",
       "      \"vega-lite\": \"https://cdn.jsdelivr.net/npm//vega-lite@4.17.0?noext\",\n",
       "      \"vega-embed\": \"https://cdn.jsdelivr.net/npm//vega-embed@6?noext\",\n",
       "    };\n",
       "\n",
       "    function maybeLoadScript(lib, version) {\n",
       "      var key = `${lib.replace(\"-\", \"\")}_version`;\n",
       "      return (VEGA_DEBUG[key] == version) ?\n",
       "        Promise.resolve(paths[lib]) :\n",
       "        new Promise(function(resolve, reject) {\n",
       "          var s = document.createElement('script');\n",
       "          document.getElementsByTagName(\"head\")[0].appendChild(s);\n",
       "          s.async = true;\n",
       "          s.onload = () => {\n",
       "            VEGA_DEBUG[key] = version;\n",
       "            return resolve(paths[lib]);\n",
       "          };\n",
       "          s.onerror = () => reject(`Error loading script: ${paths[lib]}`);\n",
       "          s.src = paths[lib];\n",
       "        });\n",
       "    }\n",
       "\n",
       "    function showError(err) {\n",
       "      outputDiv.innerHTML = `<div class=\"error\" style=\"color:red;\">${err}</div>`;\n",
       "      throw err;\n",
       "    }\n",
       "\n",
       "    function displayChart(vegaEmbed) {\n",
       "      vegaEmbed(outputDiv, spec, embedOpt)\n",
       "        .catch(err => showError(`Javascript Error: ${err.message}<br>This usually means there's a typo in your chart specification. See the javascript console for the full traceback.`));\n",
       "    }\n",
       "\n",
       "    if(typeof define === \"function\" && define.amd) {\n",
       "      requirejs.config({paths});\n",
       "      require([\"vega-embed\"], displayChart, err => showError(`Error loading script: ${err.message}`));\n",
       "    } else {\n",
       "      maybeLoadScript(\"vega\", \"5\")\n",
       "        .then(() => maybeLoadScript(\"vega-lite\", \"4.17.0\"))\n",
       "        .then(() => maybeLoadScript(\"vega-embed\", \"6\"))\n",
       "        .catch(showError)\n",
       "        .then(() => displayChart(vegaEmbed));\n",
       "    }\n",
       "  })({\"config\": {\"view\": {\"continuousWidth\": 400, \"continuousHeight\": 300}}, \"data\": {\"name\": \"data-981ca90c5612b475f1cdf090829c7de5\"}, \"facet\": {\"field\": \"exceptional_types\", \"title\": null, \"type\": \"ordinal\"}, \"spec\": {\"mark\": \"bar\", \"encoding\": {\"color\": {\"field\": \"type\", \"legend\": {\"title\": \"Library Dataset\"}, \"sort\": {\"field\": \"counts\", \"op\": \"sum\", \"order\": \"descending\"}, \"type\": \"nominal\"}, \"x\": {\"field\": \"counts\", \"title\": \"\", \"type\": \"quantitative\"}, \"y\": {\"field\": \"type\", \"sort\": {\"field\": \"counts\", \"op\": \"sum\", \"order\": \"descending\"}, \"title\": \"\", \"type\": \"ordinal\"}}, \"height\": 100, \"width\": 100}, \"columns\": 3, \"resolve\": {\"scale\": {\"x\": \"independent\"}}, \"title\": \"Rate of Exceptional Behavior in the Library (Scale Independent)\", \"$schema\": \"https://vega.github.io/schema/vega-lite/v4.17.0.json\", \"datasets\": {\"data-981ca90c5612b475f1cdf090829c7de5\": [{\"exceptional_types\": \"Longterm Borrows\", \"counts\": 23, \"type\": \"books\"}, {\"exceptional_types\": \"Borrow Status Missing\", \"counts\": 4, \"type\": \"books\"}, {\"exceptional_types\": \"Borrows Beyond Subscription\", \"counts\": 2931, \"type\": \"books\"}, {\"exceptional_types\": \"Borrows After 1942\", \"counts\": 392, \"type\": \"books\"}, {\"exceptional_types\": \"Sunday Shoppers\", \"counts\": 246, \"type\": \"books\"}, {\"exceptional_types\": \"Borrow Status Unknown\", \"counts\": 539, \"type\": \"books\"}, {\"exceptional_types\": \"Longterm Borrows\", \"counts\": 12, \"type\": \"members\"}, {\"exceptional_types\": \"Borrow Status Missing\", \"counts\": 4, \"type\": \"members\"}, {\"exceptional_types\": \"Borrows Beyond Subscription\", \"counts\": 277, \"type\": \"members\"}, {\"exceptional_types\": \"Borrows After 1942\", \"counts\": 119, \"type\": \"members\"}, {\"exceptional_types\": \"Sunday Shoppers\", \"counts\": 101, \"type\": \"members\"}, {\"exceptional_types\": \"Borrow Status Unknown\", \"counts\": 219, \"type\": \"members\"}, {\"exceptional_types\": \"Longterm Borrows\", \"counts\": 24, \"type\": \"events\"}, {\"exceptional_types\": \"Borrow Status Missing\", \"counts\": 4, \"type\": \"events\"}, {\"exceptional_types\": \"Borrows Beyond Subscription\", \"counts\": 5752, \"type\": \"events\"}, {\"exceptional_types\": \"Borrows After 1942\", \"counts\": 538, \"type\": \"events\"}, {\"exceptional_types\": \"Sunday Shoppers\", \"counts\": 258, \"type\": \"events\"}, {\"exceptional_types\": \"Borrow Status Unknown\", \"counts\": 604, \"type\": \"events\"}]}}, {\"mode\": \"vega-lite\"});\n",
       "</script>"
      ],
      "text/plain": [
       "alt.FacetChart(...)"
      ]
     },
     "execution_count": 28,
     "metadata": {},
     "output_type": "execute_result"
    }
   ],
   "source": [
    "\n",
    "chart = alt.Chart(grouped_df).mark_bar().encode(\n",
    "    y=alt.Y('type:O', sort=alt.EncodingSortField(\n",
    "        field='counts', op='sum', order='descending'), title=''),\n",
    "    x=alt.X('counts:Q', title=''),\n",
    "    color=alt.Color('type:N', legend=alt.Legend(title='Library Dataset'), sort=alt.EncodingSortField(field='counts', op='sum', order='descending')),\n",
    ").properties(\n",
    "    width=100,\n",
    "    height=100,\n",
    ").facet(\n",
    "    facet=alt.Facet('exceptional_types:O', title=None),\n",
    "    columns=3,\n",
    "    title='Rate of Exceptional Behavior in the Library (Scale Independent)'\n",
    ").resolve_scale(x='independent')\n",
    "chart\n",
    "# chart.save('./visualizations/exceptional_metadata.png', scale_factor=2.0)\n"
   ]
  },
  {
   "cell_type": "code",
   "execution_count": null,
   "metadata": {},
   "outputs": [],
   "source": []
  }
 ],
 "metadata": {
  "kernelspec": {
   "display_name": "Python 3.9.14 ('sco_networks_env')",
   "language": "python",
   "name": "python3"
  },
  "language_info": {
   "codemirror_mode": {
    "name": "ipython",
    "version": 3
   },
   "file_extension": ".py",
   "mimetype": "text/x-python",
   "name": "python",
   "nbconvert_exporter": "python",
   "pygments_lexer": "ipython3",
   "version": "3.9.14"
  },
  "vscode": {
   "interpreter": {
    "hash": "23d41df1f4c11c16502c948d802343f64e454837e1c14e1add98372a826eef33"
   }
  }
 },
 "nbformat": 4,
 "nbformat_minor": 2
}
